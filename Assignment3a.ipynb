{
  "metadata": {
    "kernelspec": {
      "name": "python",
      "display_name": "Python (Pyodide)",
      "language": "python"
    },
    "language_info": {
      "codemirror_mode": {
        "name": "python",
        "version": 3
      },
      "file_extension": ".py",
      "mimetype": "text/x-python",
      "name": "python",
      "nbconvert_exporter": "python",
      "pygments_lexer": "ipython3",
      "version": "3.8"
    }
  },
  "nbformat_minor": 4,
  "nbformat": 4,
  "cells": [
    {
      "cell_type": "markdown",
      "source": "Wuhong Xu\nS5727162",
      "metadata": {}
    },
    {
      "cell_type": "code",
      "source": "import pandas as pd\nimport matplotlib.pyplot as plt",
      "metadata": {
        "trusted": true
      },
      "outputs": [],
      "execution_count": 1
    },
    {
      "cell_type": "code",
      "source": "data = pd.read_csv('elonmusk_tweets.csv')",
      "metadata": {
        "trusted": true
      },
      "outputs": [],
      "execution_count": 3
    },
    {
      "cell_type": "markdown",
      "source": "## Overview of the data",
      "metadata": {}
    },
    {
      "cell_type": "code",
      "source": "data.sample(10)",
      "metadata": {
        "trusted": true
      },
      "outputs": [
        {
          "execution_count": 6,
          "output_type": "execute_result",
          "data": {
            "text/plain": "                      id          created_at  \\\n494   794573852848177152 2016-11-04 16:15:43   \n1878  469988081635196928 2014-05-23 23:47:45   \n1135  716743909750218752 2016-04-03 21:47:19   \n2803  149813972915339264 2011-12-22 11:30:10   \n1329  678004229047357440 2015-12-19 00:09:39   \n259   827925653022453760 2017-02-04 17:03:52   \n1070  722599856460529665 2016-04-20 01:36:45   \n1073  721829237741621248 2016-04-17 22:34:35   \n1092  718548224441774082 2016-04-08 21:17:01   \n34    846768171486855169 2017-03-28 16:57:18   \n\n                                                   text  year  \n494   b'@MrRoryReid @MykalSoCal @BBC_TopGear @TeslaM...  2016  \n1878  b'@westcoastbill First, the cheese. Then, the ...  2014  \n1135                                  b'@GolfsHard yes'  2016  \n2803  b'Model S options are out! Performance in red ...  2011  \n1329  b'Static fire test looks good. Pending data re...  2015  \n259   b'In addition, I again raised climate. I belie...  2017  \n1070  b'@RealDarthBL We have amplified pre-delivery ...  2016  \n1073  b'Owner video of Autopilot steering to avoid c...  2016  \n1092  b'@NASA @sgvcrime @SpaceX @Space_Station Thank...  2016  \n34                b\"@nickg_uk @chouky02 You won't care\"  2017  ",
            "text/html": "<div>\n<style scoped>\n    .dataframe tbody tr th:only-of-type {\n        vertical-align: middle;\n    }\n\n    .dataframe tbody tr th {\n        vertical-align: top;\n    }\n\n    .dataframe thead th {\n        text-align: right;\n    }\n</style>\n<table border=\"1\" class=\"dataframe\">\n  <thead>\n    <tr style=\"text-align: right;\">\n      <th></th>\n      <th>id</th>\n      <th>created_at</th>\n      <th>text</th>\n      <th>year</th>\n    </tr>\n  </thead>\n  <tbody>\n    <tr>\n      <th>494</th>\n      <td>794573852848177152</td>\n      <td>2016-11-04 16:15:43</td>\n      <td>b'@MrRoryReid @MykalSoCal @BBC_TopGear @TeslaM...</td>\n      <td>2016</td>\n    </tr>\n    <tr>\n      <th>1878</th>\n      <td>469988081635196928</td>\n      <td>2014-05-23 23:47:45</td>\n      <td>b'@westcoastbill First, the cheese. Then, the ...</td>\n      <td>2014</td>\n    </tr>\n    <tr>\n      <th>1135</th>\n      <td>716743909750218752</td>\n      <td>2016-04-03 21:47:19</td>\n      <td>b'@GolfsHard yes'</td>\n      <td>2016</td>\n    </tr>\n    <tr>\n      <th>2803</th>\n      <td>149813972915339264</td>\n      <td>2011-12-22 11:30:10</td>\n      <td>b'Model S options are out! Performance in red ...</td>\n      <td>2011</td>\n    </tr>\n    <tr>\n      <th>1329</th>\n      <td>678004229047357440</td>\n      <td>2015-12-19 00:09:39</td>\n      <td>b'Static fire test looks good. Pending data re...</td>\n      <td>2015</td>\n    </tr>\n    <tr>\n      <th>259</th>\n      <td>827925653022453760</td>\n      <td>2017-02-04 17:03:52</td>\n      <td>b'In addition, I again raised climate. I belie...</td>\n      <td>2017</td>\n    </tr>\n    <tr>\n      <th>1070</th>\n      <td>722599856460529665</td>\n      <td>2016-04-20 01:36:45</td>\n      <td>b'@RealDarthBL We have amplified pre-delivery ...</td>\n      <td>2016</td>\n    </tr>\n    <tr>\n      <th>1073</th>\n      <td>721829237741621248</td>\n      <td>2016-04-17 22:34:35</td>\n      <td>b'Owner video of Autopilot steering to avoid c...</td>\n      <td>2016</td>\n    </tr>\n    <tr>\n      <th>1092</th>\n      <td>718548224441774082</td>\n      <td>2016-04-08 21:17:01</td>\n      <td>b'@NASA @sgvcrime @SpaceX @Space_Station Thank...</td>\n      <td>2016</td>\n    </tr>\n    <tr>\n      <th>34</th>\n      <td>846768171486855169</td>\n      <td>2017-03-28 16:57:18</td>\n      <td>b\"@nickg_uk @chouky02 You won't care\"</td>\n      <td>2017</td>\n    </tr>\n  </tbody>\n</table>\n</div>"
          },
          "metadata": {}
        }
      ],
      "execution_count": 6
    },
    {
      "cell_type": "markdown",
      "source": "Generate information about all the columns in the data",
      "metadata": {}
    },
    {
      "cell_type": "code",
      "source": "data.info()",
      "metadata": {
        "trusted": true
      },
      "outputs": [
        {
          "name": "stdout",
          "text": "<class 'pandas.core.frame.DataFrame'>\nRangeIndex: 2819 entries, 0 to 2818\nData columns (total 4 columns):\n #   Column      Non-Null Count  Dtype         \n---  ------      --------------  -----         \n 0   id          2819 non-null   int64         \n 1   created_at  2819 non-null   datetime64[ns]\n 2   text        2819 non-null   object        \n 3   year        2819 non-null   int64         \ndtypes: datetime64[ns](1), int64(2), object(1)\nmemory usage: 77.2+ KB\n",
          "output_type": "stream"
        }
      ],
      "execution_count": 7
    },
    {
      "cell_type": "markdown",
      "source": "## Overview of data types of each columns in the dataframe",
      "metadata": {}
    },
    {
      "cell_type": "code",
      "source": "data.dtypes",
      "metadata": {
        "trusted": true
      },
      "outputs": [
        {
          "execution_count": 29,
          "output_type": "execute_result",
          "data": {
            "text/plain": "id                     int64\ncreated_at    datetime64[ns]\ntext                  object\nyear                   int64\ndtype: object"
          },
          "metadata": {}
        }
      ],
      "execution_count": 29
    },
    {
      "cell_type": "markdown",
      "source": "# Questions and Visualization",
      "metadata": {}
    },
    {
      "cell_type": "markdown",
      "source": "## Conditional Selection",
      "metadata": {}
    },
    {
      "cell_type": "markdown",
      "source": "### Among all Musk's tweets, find 20 tweets contain the keyword 'Tesla'.",
      "metadata": {}
    },
    {
      "cell_type": "code",
      "source": "keyword = 'Tesla'",
      "metadata": {
        "trusted": true
      },
      "outputs": [],
      "execution_count": 66
    },
    {
      "cell_type": "markdown",
      "source": "We select the tweets that contain 'Tesla' and display the first 20 entries in the result, including the columns 'year' and 'text'.",
      "metadata": {}
    },
    {
      "cell_type": "code",
      "source": "tweets_with_keyword = data[data['text'].str.contains(keyword, case=False)].head(20)[['year', 'text' ]]\nprint(tweets_with_keyword)",
      "metadata": {
        "trusted": true
      },
      "outputs": [
        {
          "name": "stdout",
          "text": "     year                                               text\n1    2017  b\"@ForIn2020 @waltmossberg @mims @defcon_5 Exa...\n14   2017        b'@tesla_addict @TeslaMotors Working on it'\n28   2017  b'Made today on Tesla sketch pad https://t.co/...\n32   2017  b'@business Glad to have Tencent as an investo...\n54   2017  b'RT @arctechinc: @elonmusk we believe so much...\n56   2017  b\"RT @Herifin_teki: @elonmusk My lil monster T...\n61   2017  b\"RT @RicardoTwumasi: @elonmusk My Tesla Model...\n62   2017  b\"RT @Shkottt: @elonmusk my Tesla Roadster is ...\n78   2017  b'@Skate_a_book Yes. Model S will always be th...\n84   2017  b'@luciojr All Tesla cars built since Oct last...\n89   2017  b'Am noticing that many people think Model 3 i...\n125  2017  b'@mcannonbrookes $250/kWh at the pack level f...\n126  2017  b'@mcannonbrookes Tesla will get the system in...\n131  2017  b'RT @TeslaMotors: Project Loveday https://t.c...\n145  2017  b'Excellent Tesla Model X review https://t.co/...\n178  2017  b'In appreciation, Tesla is providing all repa...\n179  2017  b'Congrats to the Tesla owner who sacrificed d...\n181  2017  b'@SEACityLight @Nas2four Sounds like the Tesl...\n184  2017  b'@RusulAlrubail @MarkRuffalo @guardian Please...\n185  2017  b'RT @TeslaMotors: Supercharger availability i...\n",
          "output_type": "stream"
        }
      ],
      "execution_count": 67
    },
    {
      "cell_type": "markdown",
      "source": "### Filter out 10 tweets that Elon Musk posted in 2016.",
      "metadata": {}
    },
    {
      "cell_type": "markdown",
      "source": "We first filter for the year equal to 2016 and display the first 10 results, including the columns 'year' and 'text'.",
      "metadata": {}
    },
    {
      "cell_type": "code",
      "source": "tweets_2016 = data[data['created_at'].dt.year == 2016].head(10)[['year', 'text']]\nprint(tweets_2016)",
      "metadata": {
        "trusted": true
      },
      "outputs": [
        {
          "name": "stdout",
          "text": "     year                                               text\n377  2016  b'HW2 Autopilot software uploading to 1000 car...\n378  2016  b'@vicentes @DragTimes Late Jan, along with Li...\n379  2016  b'@DragTimes Yes, but held up by Autopilot . I...\n380  2016  b'Resolving an Autopilot HW2 bug that shows up...\n381  2016  b'Churchill (non) quotes \\nhttps://t.co/avA4YD...\n382  2016  b'RT @IridiumComm: Milestone Alert: The first ...\n383  2016  b'@andrewket Almost there. Undergoing final va...\n384  2016  b'RT @ElectrekCo: Tesla Autopilot\\xe2\\x80\\x99s...\n385  2016  b'Deus ex machina on the center screen when it...\n386  2016  b'@quipme Occasional existential dread is inev...\n",
          "output_type": "stream"
        }
      ],
      "execution_count": 55
    },
    {
      "cell_type": "markdown",
      "source": "## GROUP BY() function",
      "metadata": {}
    },
    {
      "cell_type": "markdown",
      "source": "### What is the average length of Elon Musk's tweets for each year?",
      "metadata": {}
    },
    {
      "cell_type": "markdown",
      "source": "We create a new column called 'tweet_length'.",
      "metadata": {}
    },
    {
      "cell_type": "code",
      "source": "data['tweet_length'] = data['text'].apply(len)",
      "metadata": {
        "trusted": true
      },
      "outputs": [],
      "execution_count": 58
    },
    {
      "cell_type": "markdown",
      "source": "We first group data by year.",
      "metadata": {}
    },
    {
      "cell_type": "code",
      "source": "group_by_year = data.groupby(data['year'])",
      "metadata": {
        "trusted": true
      },
      "outputs": [],
      "execution_count": 60
    },
    {
      "cell_type": "markdown",
      "source": "We will calculate the average tweet length for each group.",
      "metadata": {}
    },
    {
      "cell_type": "code",
      "source": "avg_tweet_length_per_year = group_by_year['tweet_length'].mean().reset_index()\nprint(avg_tweet_length_per_year)",
      "metadata": {
        "trusted": true
      },
      "outputs": [
        {
          "name": "stdout",
          "text": "   year  tweet_length\n0  2010     95.000000\n1  2011    114.931818\n2  2012    108.920886\n3  2013    106.205021\n4  2014    103.224138\n5  2015    103.506881\n6  2016     94.260963\n7  2017     94.172414\n",
          "output_type": "stream"
        }
      ],
      "execution_count": 64
    },
    {
      "cell_type": "markdown",
      "source": "## Visualizing the trend of Musk's tweet count over time",
      "metadata": {}
    },
    {
      "cell_type": "code",
      "source": "import matplotlib.pyplot as plt",
      "metadata": {
        "trusted": true
      },
      "outputs": [],
      "execution_count": 68
    },
    {
      "cell_type": "markdown",
      "source": "Firstly, convert the column to datetime format.",
      "metadata": {}
    },
    {
      "cell_type": "code",
      "source": "data['created_at'] = pd.to_datetime(data['created_at'])",
      "metadata": {
        "trusted": true
      },
      "outputs": [],
      "execution_count": 69
    },
    {
      "cell_type": "markdown",
      "source": "Then we group the data by year and calculate the number of tweets per year.",
      "metadata": {}
    },
    {
      "cell_type": "code",
      "source": "tweets_per_year = data.groupby('year').size()",
      "metadata": {
        "trusted": true
      },
      "outputs": [],
      "execution_count": 70
    },
    {
      "cell_type": "markdown",
      "source": "In the end, we create a figure to show the result.",
      "metadata": {}
    },
    {
      "cell_type": "code",
      "source": "plt.figure(figsize=(10, 6))\ntweets_per_year.plot(kind='bar', color='skyblue')\nplt.title('Elon Musk Tweets Over the Years')\nplt.xlabel('Year')\nplt.ylabel('Number of Tweets')\nplt.show()",
      "metadata": {
        "trusted": true
      },
      "outputs": [
        {
          "output_type": "display_data",
          "data": {
            "text/plain": "<Figure size 1000x600 with 1 Axes>",
            "image/png": "[encoded data removed]"
          },
          "metadata": {}
        }
      ],
      "execution_count": 72
    },
    {
      "cell_type": "markdown",
      "source": "### What conclusion can we infer from this bar chart?",
      "metadata": {}
    },
    {
      "cell_type": "markdown",
      "source": "The results indicate a significant increase in Musk's tweet volume in 2016. This is likely attributed to substantial progress made by Musk's companies in various aspects. This surge in tweet activity suggests active promotion and engagement on Musk's part. For instance, notable events include:\n\n- Tesla's official launch of the new electric car, the Model 3, in July 2016.\n- The completion of Tesla's acquisition of solar energy company SolarCity in November 2016.\n- SpaceX's successful vertical landing of the Falcon 9 rocket.\n- Introduction of the ambitious 'Interplanetary Spaceship'.",
      "metadata": {}
    },
    {
      "cell_type": "code",
      "source": "",
      "metadata": {
        "trusted": true
      },
      "outputs": [],
      "execution_count": null
    }
  ]
}